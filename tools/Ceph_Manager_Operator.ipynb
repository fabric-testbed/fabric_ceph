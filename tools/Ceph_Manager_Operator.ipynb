{
 "cells": [
  {
   "cell_type": "markdown",
   "id": "58430ca2",
   "metadata": {},
   "source": [
    "\n",
    "# Ceph Manager — Operator Notebook\n",
    "\n",
    "Use this notebook to **add/delete CephX users** and **add/resize/delete CephFS subvolumes**, either **one at a time** or **in bulk from CSV files**.\n",
    "\n",
    "This notebook expects the Python client `CephManagerClient` to be importable (from your package or as a module).\n"
   ]
  },
  {
   "cell_type": "code",
   "execution_count": 1,
   "id": "1ec180dc",
   "metadata": {
    "ExecuteTime": {
     "end_time": "2025-10-02T17:54:34.097435Z",
     "start_time": "2025-10-02T17:54:34.016174Z"
    }
   },
   "outputs": [],
   "source": [
    "from typing import Any, Dict, List, Optional\n",
    "from dataclasses import dataclass\n",
    "import json\n",
    "import pandas as pd\n",
    "from fabric_ceph_client.fabric_ceph_client import CephManagerClient"
   ]
  },
  {
   "cell_type": "code",
   "execution_count": 6,
   "id": "f4337a36",
   "metadata": {},
   "outputs": [
    {
     "ename": "TypeError",
     "evalue": "CephManagerClient.__init__() got an unexpected keyword argument 'token_file'",
     "output_type": "error",
     "traceback": [
      "\u001b[31m---------------------------------------------------------------------------\u001b[39m",
      "\u001b[31mTypeError\u001b[39m                                 Traceback (most recent call last)",
      "\u001b[36mCell\u001b[39m\u001b[36m \u001b[39m\u001b[32mIn[6]\u001b[39m\u001b[32m, line 5\u001b[39m\n\u001b[32m      2\u001b[39m TOKEN = \u001b[33m\"\u001b[39m\u001b[33m/Users/kthare10/work/id_token_prod.json\u001b[39m\u001b[33m\"\u001b[39m                           \u001b[38;5;66;03m# paste a JWT if your service requires it, else None\u001b[39;00m\n\u001b[32m      3\u001b[39m VERIFY_TLS = \u001b[38;5;28;01mFalse\u001b[39;00m                      \u001b[38;5;66;03m# set False only for testing self-signed certs\u001b[39;00m\n\u001b[32m----> \u001b[39m\u001b[32m5\u001b[39m client = \u001b[43mCephManagerClient\u001b[49m\u001b[43m(\u001b[49m\u001b[43mbase_url\u001b[49m\u001b[43m=\u001b[49m\u001b[43mBASE_URL\u001b[49m\u001b[43m,\u001b[49m\u001b[43m \u001b[49m\u001b[43mtoken_file\u001b[49m\u001b[43m=\u001b[49m\u001b[43mTOKEN\u001b[49m\u001b[43m,\u001b[49m\u001b[43m \u001b[49m\u001b[43mverify\u001b[49m\u001b[43m=\u001b[49m\u001b[43mVERIFY_TLS\u001b[49m\u001b[43m)\u001b[49m\n",
      "\u001b[31mTypeError\u001b[39m: CephManagerClient.__init__() got an unexpected keyword argument 'token_file'"
     ]
    }
   ],
   "source": [
    "\n",
    "BASE_URL = \"https://23.134.232.53\"   # e.g., \"https://mgr.example.org/api\"\n",
    "TOKEN = \"/Users/kthare10/work/id_token_prod.json\"                           # paste a JWT if your service requires it, else None\n",
    "VERIFY_TLS = False                      # set False only for testing self-signed certs\n",
    "\n",
    "client = CephManagerClient(base_url=BASE_URL, token_file=TOKEN, verify=VERIFY_TLS)"
   ]
  },
  {
   "cell_type": "markdown",
   "id": "16805d92",
   "metadata": {},
   "source": [
    "\n",
    "## CephX user helpers\n",
    "Single operations and CSV batch upload.\n"
   ]
  },
  {
   "cell_type": "code",
   "execution_count": 3,
   "id": "1c3daabf",
   "metadata": {},
   "outputs": [],
   "source": [
    "\n",
    "def upsert_user(user_entity: str, capabilities: List[Dict[str, str]], x_cluster: Optional[str]=None) -> Dict[str, Any]:\n",
    "    \"\"\"Create or update a CephX user. Server may implement upsert; this calls POST first, then falls back to PUT.\"\"\"\n",
    "    try:\n",
    "        try:\n",
    "            return client.create_user(user_entity, capabilities, x_cluster=x_cluster)\n",
    "        except ApiError as e:\n",
    "            # if user exists or POST is restricted, try PUT\n",
    "            return client.update_user(user_entity, capabilities, x_cluster=x_cluster)\n",
    "    except ApiError as e:\n",
    "        print(\"API error during upsert_user:\", e)\n",
    "        raise\n",
    "\n",
    "def delete_user(entity: str, x_cluster: Optional[str]=None) -> Dict[str, Any]:\n",
    "    try:\n",
    "        return client.delete_user(entity, x_cluster=x_cluster)\n",
    "    except ApiError as e:\n",
    "        print(\"API error during delete_user:\", e)\n",
    "        raise\n",
    "\n",
    "def export_keyrings(entities: List[str], x_cluster: Optional[str]=None) -> str:\n",
    "    try:\n",
    "        return client.export_users(entities, x_cluster=x_cluster)\n",
    "    except ApiError as e:\n",
    "        print(\"API error during export_keyrings:\", e)\n",
    "        raise\n",
    "\n",
    "def list_users() -> str:\n",
    "    try:\n",
    "        return client.list_users()\n",
    "    except ApiError as e:\n",
    "        print(\"API error during list_users:\", e)\n",
    "        raise"
   ]
  },
  {
   "cell_type": "markdown",
   "id": "f4398175",
   "metadata": {},
   "source": [
    "\n",
    "## CephFS subvolume helpers\n",
    "Create/resize/delete subvolumes and check/get info. `mode` is used on **create**; `size` sets quota in bytes.\n"
   ]
  },
  {
   "cell_type": "code",
   "execution_count": 4,
   "id": "818c8ff2",
   "metadata": {},
   "outputs": [],
   "source": [
    "\n",
    "def ensure_group(vol_name: str, group_name: str, x_cluster: Optional[str]=None) -> Dict[str, Any]:\n",
    "    try:\n",
    "        return client.create_subvolume_group(vol_name, group_name, x_cluster=x_cluster)\n",
    "    except ApiError as e:\n",
    "        print(\"API error during ensure_group:\", e)\n",
    "        raise\n",
    "\n",
    "def create_or_resize_subvol(vol_name: str, subvol_name: str, *, group_name: Optional[str]=None,\n",
    "                            size_bytes: Optional[int]=None, mode: Optional[str]=None,\n",
    "                            x_cluster: Optional[str]=None) -> Dict[str, Any]:\n",
    "    try:\n",
    "        return client.create_or_resize_subvolume(vol_name, subvol_name, group_name=group_name,\n",
    "                                                 size=size_bytes, mode=mode, x_cluster=x_cluster)\n",
    "    except ApiError as e:\n",
    "        print(\"API error during create_or_resize_subvol:\", e)\n",
    "        raise\n",
    "\n",
    "def get_subvol_info(vol_name: str, subvol_name: str, *, group_name: Optional[str]=None,\n",
    "                    x_cluster: Optional[str]=None) -> Dict[str, Any]:\n",
    "    try:\n",
    "        return client.get_subvolume_info(vol_name, subvol_name, group_name=group_name, x_cluster=x_cluster)\n",
    "    except ApiError as e:\n",
    "        print(\"API error during get_subvol_info:\", e)\n",
    "        raise\n",
    "\n",
    "def subvol_exists(vol_name: str, subvol_name: str, *, group_name: Optional[str]=None,\n",
    "                  x_cluster: Optional[str]=None) -> bool:\n",
    "    try:\n",
    "        return client.subvolume_exists(vol_name, subvol_name, group_name=group_name, x_cluster=x_cluster)\n",
    "    except ApiError as e:\n",
    "        print(\"API error during subvol_exists:\", e)\n",
    "        raise\n",
    "\n",
    "def delete_subvol(vol_name: str, subvol_name: str, *, group_name: Optional[str]=None, force: bool=False,\n",
    "                  x_cluster: Optional[str]=None) -> Dict[str, Any]:\n",
    "    try:\n",
    "        return client.delete_subvolume(vol_name, subvol_name, group_name=group_name, force=force, x_cluster=x_cluster)\n",
    "    except ApiError as e:\n",
    "        print(\"API error during delete_subvol:\", e)\n",
    "        raise\n"
   ]
  },
  {
   "cell_type": "markdown",
   "id": "accc10c3",
   "metadata": {},
   "source": [
    "\n",
    "## One-at-a-time examples\n",
    "Uncomment and run what you need.\n"
   ]
  },
  {
   "cell_type": "code",
   "execution_count": 5,
   "id": "d2a25d59",
   "metadata": {},
   "outputs": [
    {
     "name": "stderr",
     "output_type": "stream",
     "text": [
      "/Users/kthare10/renci/code/fabric/1.6/fabric_ceph/.venv/lib/python3.13/site-packages/urllib3/connectionpool.py:1097: InsecureRequestWarning: Unverified HTTPS request is being made to host '23.134.232.53'. Adding certificate verification is strongly advised. See: https://urllib3.readthedocs.io/en/latest/advanced-usage.html#tls-warnings\n",
      "  warnings.warn(\n",
      "/Users/kthare10/renci/code/fabric/1.6/fabric_ceph/.venv/lib/python3.13/site-packages/urllib3/connectionpool.py:1097: InsecureRequestWarning: Unverified HTTPS request is being made to host '23.134.232.53'. Adding certificate verification is strongly advised. See: https://urllib3.readthedocs.io/en/latest/advanced-usage.html#tls-warnings\n",
      "  warnings.warn(\n",
      "/Users/kthare10/renci/code/fabric/1.6/fabric_ceph/.venv/lib/python3.13/site-packages/urllib3/connectionpool.py:1097: InsecureRequestWarning: Unverified HTTPS request is being made to host '23.134.232.53'. Adding certificate verification is strongly advised. See: https://urllib3.readthedocs.io/en/latest/advanced-usage.html#tls-warnings\n",
      "  warnings.warn(\n",
      "/Users/kthare10/renci/code/fabric/1.6/fabric_ceph/.venv/lib/python3.13/site-packages/urllib3/connectionpool.py:1097: InsecureRequestWarning: Unverified HTTPS request is being made to host '23.134.232.53'. Adding certificate verification is strongly advised. See: https://urllib3.readthedocs.io/en/latest/advanced-usage.html#tls-warnings\n",
      "  warnings.warn(\n"
     ]
    },
    {
     "ename": "NameError",
     "evalue": "name 'ApiError' is not defined",
     "output_type": "error",
     "traceback": [
      "\u001b[31m---------------------------------------------------------------------------\u001b[39m",
      "\u001b[31mApiError\u001b[39m                                  Traceback (most recent call last)",
      "\u001b[36mCell\u001b[39m\u001b[36m \u001b[39m\u001b[32mIn[3]\u001b[39m\u001b[32m, line 29\u001b[39m, in \u001b[36mlist_users\u001b[39m\u001b[34m()\u001b[39m\n\u001b[32m     28\u001b[39m \u001b[38;5;28;01mtry\u001b[39;00m:\n\u001b[32m---> \u001b[39m\u001b[32m29\u001b[39m     \u001b[38;5;28;01mreturn\u001b[39;00m \u001b[43mclient\u001b[49m\u001b[43m.\u001b[49m\u001b[43mlist_users\u001b[49m\u001b[43m(\u001b[49m\u001b[43m)\u001b[49m\n\u001b[32m     30\u001b[39m \u001b[38;5;28;01mexcept\u001b[39;00m ApiError \u001b[38;5;28;01mas\u001b[39;00m e:\n",
      "\u001b[36mFile \u001b[39m\u001b[32m~/renci/code/fabric/1.6/fabric_ceph/.venv/lib/python3.13/site-packages/fabric_ceph_client/fabric_ceph_client.py:133\u001b[39m, in \u001b[36mCephManagerClient.list_users\u001b[39m\u001b[34m(self, x_cluster)\u001b[39m\n\u001b[32m    132\u001b[39m \u001b[38;5;250m\u001b[39m\u001b[33;03m\"\"\"GET /cluster/user\"\"\"\u001b[39;00m\n\u001b[32m--> \u001b[39m\u001b[32m133\u001b[39m \u001b[38;5;28;01mreturn\u001b[39;00m \u001b[38;5;28;43mself\u001b[39;49m\u001b[43m.\u001b[49m\u001b[43m_request\u001b[49m\u001b[43m(\u001b[49m\u001b[33;43m\"\u001b[39;49m\u001b[33;43mGET\u001b[39;49m\u001b[33;43m\"\u001b[39;49m\u001b[43m,\u001b[49m\u001b[43m \u001b[49m\u001b[33;43m\"\u001b[39;49m\u001b[33;43m/cluster/user\u001b[39;49m\u001b[33;43m\"\u001b[39;49m\u001b[43m,\u001b[49m\u001b[43m \u001b[49m\u001b[43mx_cluster\u001b[49m\u001b[43m=\u001b[49m\u001b[43mx_cluster\u001b[49m\u001b[43m)\u001b[49m\n",
      "\u001b[36mFile \u001b[39m\u001b[32m~/renci/code/fabric/1.6/fabric_ceph/.venv/lib/python3.13/site-packages/fabric_ceph_client/fabric_ceph_client.py:123\u001b[39m, in \u001b[36mCephManagerClient._request\u001b[39m\u001b[34m(self, method, path, params, json, data, headers, x_cluster)\u001b[39m\n\u001b[32m    122\u001b[39m         payload = resp.text\n\u001b[32m--> \u001b[39m\u001b[32m123\u001b[39m     \u001b[38;5;28;01mraise\u001b[39;00m ApiError(resp.status_code, url, message=message, payload=payload)\n\u001b[32m    125\u001b[39m \u001b[38;5;28;01mif\u001b[39;00m \u001b[38;5;28mself\u001b[39m._is_json(resp):\n",
      "\u001b[31mApiError\u001b[39m: [500] https://23.134.232.53/cluster/user :: {\n    \"errors\": [\n        {\n            \"details\": \"Unable to validate provided token: ValidateCode.UNPARSABLE_TOKEN/Not enough segments\",\n            \"message\": \"Internal Server Error\"\n        }\n    ],\n    \"size\": 1,\n    \"status\": 500,\n    \"type\": \"error\"\n}",
      "\nDuring handling of the above exception, another exception occurred:\n",
      "\u001b[31mNameError\u001b[39m                                 Traceback (most recent call last)",
      "\u001b[36mCell\u001b[39m\u001b[36m \u001b[39m\u001b[32mIn[5]\u001b[39m\u001b[32m, line 1\u001b[39m\n\u001b[32m----> \u001b[39m\u001b[32m1\u001b[39m \u001b[38;5;28mprint\u001b[39m(\u001b[43mlist_users\u001b[49m\u001b[43m(\u001b[49m\u001b[43m)\u001b[49m)\n",
      "\u001b[36mCell\u001b[39m\u001b[36m \u001b[39m\u001b[32mIn[3]\u001b[39m\u001b[32m, line 30\u001b[39m, in \u001b[36mlist_users\u001b[39m\u001b[34m()\u001b[39m\n\u001b[32m     28\u001b[39m \u001b[38;5;28;01mtry\u001b[39;00m:\n\u001b[32m     29\u001b[39m     \u001b[38;5;28;01mreturn\u001b[39;00m client.list_users()\n\u001b[32m---> \u001b[39m\u001b[32m30\u001b[39m \u001b[38;5;28;01mexcept\u001b[39;00m \u001b[43mApiError\u001b[49m \u001b[38;5;28;01mas\u001b[39;00m e:\n\u001b[32m     31\u001b[39m     \u001b[38;5;28mprint\u001b[39m(\u001b[33m\"\u001b[39m\u001b[33mAPI error during list_users:\u001b[39m\u001b[33m\"\u001b[39m, e)\n\u001b[32m     32\u001b[39m     \u001b[38;5;28;01mraise\u001b[39;00m\n",
      "\u001b[31mNameError\u001b[39m: name 'ApiError' is not defined"
     ]
    }
   ],
   "source": [
    "print(list_users())"
   ]
  },
  {
   "cell_type": "code",
   "execution_count": null,
   "id": "4dc22791",
   "metadata": {},
   "outputs": [],
   "source": [
    "\n",
    "# ---- CephX user: upsert\n",
    "# caps = [\n",
    "#     {\"entity\": \"mon\", \"cap\": \"allow r\"},\n",
    "#     {\"entity\": \"mds\", \"cap\": \"allow rw fsname=CEPH-FS-01 path=/volumes/_nogroup/demo\"},\n",
    "#     {\"entity\": \"osd\", \"cap\": \"allow rw tag cephfs data=CEPH-FS-01\"},\n",
    "#     {\"entity\": \"osd\", \"cap\": \"allow rw tag cephfs metadata=CEPH-FS-01\"},\n",
    "# ]\n",
    "# upsert_user(\"client.demo\", caps)\n",
    "\n",
    "# ---- CephX user: export keyring(s)\n",
    "# print(export_keyrings([\"client.demo\"]))\n",
    "\n",
    "# ---- CephX user: delete\n",
    "# delete_user(\"client.demo\")\n",
    "\n",
    "# ---- CephFS: ensure group, create, info, delete\n",
    "# ensure_group(\"CEPH-FS-01\", \"fabric_staff\")\n",
    "# create_or_resize_subvol(\"CEPH-FS-01\", \"alice\", group_name=\"fabric_staff\", size_bytes=10 * 1024**3, mode=\"0777\")\n",
    "# info = get_subvol_info(\"CEPH-FS-01\", \"alice\", group_name=\"fabric_staff\"); info\n",
    "# delete_subvol(\"CEPH-FS-01\", \"alice\", group_name=\"fabric_staff\")\n"
   ]
  },
  {
   "cell_type": "markdown",
   "id": "74040600",
   "metadata": {},
   "source": [
    "\n",
    "## Batch from CSV — CephX users\n",
    "\n",
    "**CSV format (`users.csv`)**\n",
    "\n",
    "| user_entity | capabilities_json |\n",
    "|-------------|-------------------|\n",
    "| client.demo | [{ \"entity\":\"mon\",\"cap\":\"allow r\" }, { \"entity\":\"mds\",\"cap\":\"allow rw\" }] |\n",
    "\n",
    "- `capabilities_json` is a JSON array of objects with `entity` and `cap` keys.\n"
   ]
  },
  {
   "cell_type": "code",
   "execution_count": null,
   "id": "8161312c",
   "metadata": {},
   "outputs": [],
   "source": [
    "\n",
    "from caas_jupyter_tools import display_dataframe_to_user\n",
    "\n",
    "def process_users_csv(csv_path: str, *, action: str=\"upsert\", x_cluster: Optional[str]=None) -> pd.DataFrame:\n",
    "    \"\"\"action: 'upsert' or 'delete'\"\"\"\n",
    "    df = pd.read_csv(csv_path)\n",
    "    results = []\n",
    "    for _, row in df.iterrows():\n",
    "        entity = str(row[\"user_entity\"]).strip()\n",
    "        try:\n",
    "            if action == \"upsert\":\n",
    "                caps = json.loads(row[\"capabilities_json\"])\n",
    "                _ = upsert_user(entity, caps, x_cluster=x_cluster)\n",
    "                results.append({\"user_entity\": entity, \"action\": \"upsert\", \"status\": \"ok\"})\n",
    "            elif action == \"delete\":\n",
    "                _ = delete_user(entity, x_cluster=x_cluster)\n",
    "                results.append({\"user_entity\": entity, \"action\": \"delete\", \"status\": \"ok\"})\n",
    "            else:\n",
    "                results.append({\"user_entity\": entity, \"action\": action, \"status\": \"unsupported\"})\n",
    "        except ApiError as e:\n",
    "            results.append({\"user_entity\": entity, \"action\": action, \"status\": f\"error: {e.message}\"})\n",
    "    out = pd.DataFrame(results)\n",
    "    display_dataframe_to_user(\"users_batch_results\", out)\n",
    "    return out\n",
    "\n",
    "# Example usage:\n",
    "# process_users_csv(\"/path/to/users.csv\", action=\"upsert\")\n",
    "# process_users_csv(\"/path/to/users.csv\", action=\"delete\")\n"
   ]
  },
  {
   "cell_type": "markdown",
   "id": "22ef222d",
   "metadata": {},
   "source": [
    "\n",
    "## Batch from CSV — CephFS subvolumes\n",
    "\n",
    "**CSV format (`subvols.csv`)**\n",
    "\n",
    "| vol_name   | subvol_name | group_name   | action  | size_bytes | mode  |\n",
    "|------------|-------------|--------------|---------|------------|-------|\n",
    "| CEPH-FS-01 | alice       | fabric_staff | create  | 10737418240| 0777  |\n",
    "| CEPH-FS-01 | alice       | fabric_staff | resize  | 536870912  |       |\n",
    "| CEPH-FS-01 | alice       | fabric_staff | delete  |            |       |\n",
    "\n",
    "- `action` is one of `create`, `resize`, `delete`\n",
    "- `size_bytes` is optional for `create` (omit → unlimited); required for `resize`\n",
    "- `mode` is only used on create\n"
   ]
  },
  {
   "cell_type": "code",
   "execution_count": null,
   "id": "301110d1",
   "metadata": {},
   "outputs": [],
   "source": [
    "\n",
    "def process_subvols_csv(csv_path: str, x_cluster: Optional[str]=None) -> pd.DataFrame:\n",
    "    df = pd.read_csv(csv_path)\n",
    "    results = []\n",
    "    for _, row in df.iterrows():\n",
    "        fs = str(row[\"vol_name\"]).strip()\n",
    "        name = str(row[\"subvol_name\"]).strip()\n",
    "        group = None if pd.isna(row.get(\"group_name\")) else str(row.get(\"group_name\")).strip()\n",
    "        action = str(row[\"action\"]).strip().lower()\n",
    "        size = row.get(\"size_bytes\")\n",
    "        size = int(size) if (pd.notna(size)) else None\n",
    "        mode = row.get(\"mode\")\n",
    "        mode = None if pd.isna(mode) or str(mode).strip()==\"\" else str(mode).strip()\n",
    "\n",
    "        try:\n",
    "            if action in (\"create\", \"resize\"):\n",
    "                if group:\n",
    "                    ensure_group(fs, group, x_cluster=x_cluster)\n",
    "                _ = create_or_resize_subvol(fs, name, group_name=group, size_bytes=size, mode=mode, x_cluster=x_cluster)\n",
    "                info = get_subvol_info(fs, name, group_name=group, x_cluster=x_cluster)\n",
    "                path = info.get(\"path\", \"\")\n",
    "                results.append({\"vol_name\": fs, \"subvol_name\": name, \"action\": action, \"status\": \"ok\", \"path\": path})\n",
    "            elif action == \"delete\":\n",
    "                _ = delete_subvol(fs, name, group_name=group, x_cluster=x_cluster)\n",
    "                results.append({\"vol_name\": fs, \"subvol_name\": name, \"action\": action, \"status\": \"ok\"})\n",
    "            else:\n",
    "                results.append({\"vol_name\": fs, \"subvol_name\": name, \"action\": action, \"status\": \"unsupported\"})\n",
    "        except ApiError as e:\n",
    "            results.append({\"vol_name\": fs, \"subvol_name\": name, \"action\": action, \"status\": f\"error: {e.message}\"})\n",
    "    out = pd.DataFrame(results)\n",
    "    from caas_jupyter_tools import display_dataframe_to_user\n",
    "    display_dataframe_to_user(\"subvols_batch_results\", out)\n",
    "    return out\n",
    "\n",
    "# Example usage:\n",
    "# process_subvols_csv(\"/path/to/subvols.csv\")\n"
   ]
  }
 ],
 "metadata": {
  "kernelspec": {
   "display_name": ".venv",
   "language": "python",
   "name": "python3"
  },
  "language_info": {
   "codemirror_mode": {
    "name": "ipython",
    "version": 3
   },
   "file_extension": ".py",
   "mimetype": "text/x-python",
   "name": "python",
   "nbconvert_exporter": "python",
   "pygments_lexer": "ipython3",
   "version": "3.13.5"
  }
 },
 "nbformat": 4,
 "nbformat_minor": 5
}
