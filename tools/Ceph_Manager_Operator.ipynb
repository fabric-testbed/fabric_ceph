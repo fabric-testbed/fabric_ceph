{
 "cells": [
  {
   "cell_type": "markdown",
   "id": "58430ca2",
   "metadata": {},
   "source": [
    "\n",
    "# Ceph Manager — Operator Notebook\n",
    "\n",
    "Use this notebook to **add/delete CephX users** and **add/resize/delete CephFS subvolumes**, either **one at a time** or **in bulk from CSV files**.\n",
    "\n",
    "This notebook expects the Python client `CephManagerClient` to be importable (from your package or as a module).\n"
   ]
  },
  {
   "cell_type": "code",
   "execution_count": null,
   "id": "1ec180dc",
   "metadata": {
    "ExecuteTime": {
     "end_time": "2025-10-02T17:54:34.097435Z",
     "start_time": "2025-10-02T17:54:34.016174Z"
    }
   },
   "outputs": [],
   "source": [
    "from typing import Any, Dict, List, Optional\n",
    "from dataclasses import dataclass\n",
    "import json\n",
    "import pandas as pd\n",
    "from fabric_ceph_client.fabric_ceph_client import CephManagerClient, ApiError"
   ]
  },
  {
   "cell_type": "code",
   "execution_count": null,
   "id": "f4337a36",
   "metadata": {},
   "outputs": [],
   "source": [
    "\n",
    "BASE_URL = \"https://23.134.232.211\"   # e.g., \"https://mgr.example.org/api\"\n",
    "TOKEN = \"/Users/kthare10/work/id_token_prod.json\"                           # paste a JWT if your service requires it, else None\n",
    "VERIFY_TLS = False                      # set False only for testing self-signed certs\n",
    "\n",
    "client = CephManagerClient(base_url=BASE_URL, token_file=TOKEN, verify=VERIFY_TLS)"
   ]
  },
  {
   "cell_type": "markdown",
   "id": "16805d92",
   "metadata": {},
   "source": [
    "\n",
    "## CephX user helpers\n",
    "Single operations and CSV batch upload.\n"
   ]
  },
  {
   "cell_type": "code",
   "execution_count": null,
   "id": "1c3daabf",
   "metadata": {},
   "outputs": [],
   "source": [
    "def list_cluster_info() -> Dict[str, Any]:\n",
    "    try:\n",
    "        return client.list_cluster_info()\n",
    "    except ApiError as e:\n",
    "        print(\"API error during list_cluster_info:\", e)\n",
    "        raise\n",
    "\n",
    "def delete_user(entity: str, x_cluster: Optional[str]=None) -> Dict[str, Any]:\n",
    "    try:\n",
    "        return client.delete_user(entity, x_cluster=x_cluster)\n",
    "    except ApiError as e:\n",
    "        print(\"API error during delete_user:\", e)\n",
    "        raise\n",
    "\n",
    "def export_keyrings(entities: List[str], x_cluster: Optional[str]=None) -> str:\n",
    "    try:\n",
    "        return client.export_users(entities, x_cluster=x_cluster)\n",
    "    except ApiError as e:\n",
    "        print(\"API error during export_keyrings:\", e)\n",
    "        raise\n",
    "\n",
    "def list_users() -> str:\n",
    "    try:\n",
    "        return client.list_users()\n",
    "    except ApiError as e:\n",
    "        print(\"API error during list_users:\", e)\n",
    "        raise"
   ]
  },
  {
   "cell_type": "markdown",
   "id": "f4398175",
   "metadata": {},
   "source": [
    "\n",
    "## CephFS subvolume helpers\n",
    "Create/resize/delete subvolumes and check/get info. `mode` is used on **create**; `size` sets quota in bytes.\n"
   ]
  },
  {
   "cell_type": "code",
   "execution_count": null,
   "id": "818c8ff2",
   "metadata": {},
   "outputs": [],
   "source": [
    "\n",
    "def ensure_group(vol_name: str, group_name: str, x_cluster: Optional[str]=None) -> Dict[str, Any]:\n",
    "    try:\n",
    "        return client.create_subvolume_group(vol_name, group_name, x_cluster=x_cluster)\n",
    "    except ApiError as e:\n",
    "        print(\"API error during ensure_group:\", e)\n",
    "        raise\n",
    "\n",
    "def create_or_resize_subvol(vol_name: str, subvol_name: str, *, group_name: Optional[str]=None,\n",
    "                            size_bytes: Optional[int]=None, mode: Optional[str]=None,\n",
    "                            x_cluster: Optional[str]=None) -> Dict[str, Any]:\n",
    "    try:\n",
    "        return client.create_or_resize_subvolume(vol_name, subvol_name, group_name=group_name,\n",
    "                                                 size=size_bytes, mode=mode, x_cluster=x_cluster)\n",
    "    except ApiError as e:\n",
    "        print(\"API error during create_or_resize_subvol:\", e)\n",
    "        raise\n",
    "\n",
    "def get_subvol_info(vol_name: str, subvol_name: str, *, group_name: Optional[str]=None,\n",
    "                    x_cluster: Optional[str]=None) -> Dict[str, Any]:\n",
    "    try:\n",
    "        return client.get_subvolume_info(vol_name, subvol_name, group_name=group_name, x_cluster=x_cluster)\n",
    "    except ApiError as e:\n",
    "        print(\"API error during get_subvol_info:\", e)\n",
    "        raise\n",
    "\n",
    "def subvol_exists(vol_name: str, subvol_name: str, *, group_name: Optional[str]=None,\n",
    "                  x_cluster: Optional[str]=None) -> bool:\n",
    "    try:\n",
    "        return client.subvolume_exists(vol_name, subvol_name, group_name=group_name, x_cluster=x_cluster)\n",
    "    except ApiError as e:\n",
    "        print(\"API error during subvol_exists:\", e)\n",
    "        raise\n",
    "\n",
    "def delete_subvol(vol_name: str, subvol_name: str, *, group_name: Optional[str]=None, force: bool=False,\n",
    "                  x_cluster: Optional[str]=None) -> Dict[str, Any]:\n",
    "    try:\n",
    "        return client.delete_subvolume(vol_name, subvol_name, group_name=group_name, force=force, x_cluster=x_cluster)\n",
    "    except ApiError as e:\n",
    "        print(\"API error during delete_subvol:\", e)\n",
    "        raise\n"
   ]
  },
  {
   "cell_type": "markdown",
   "id": "accc10c3",
   "metadata": {},
   "source": [
    "\n",
    "## One-at-a-time examples\n",
    "Uncomment and run what you need.\n"
   ]
  },
  {
   "cell_type": "code",
   "execution_count": 56,
   "id": "d2a25d59",
   "metadata": {},
   "outputs": [
    {
     "name": "stderr",
     "output_type": "stream",
     "text": [
      "/Users/kthare10/renci/code/fabric/1.6/fabric_ceph/.venv/lib/python3.13/site-packages/urllib3/connectionpool.py:1097: InsecureRequestWarning: Unverified HTTPS request is being made to host '23.134.232.211'. Adding certificate verification is strongly advised. See: https://urllib3.readthedocs.io/en/latest/advanced-usage.html#tls-warnings\n",
      "  warnings.warn(\n",
      "/Users/kthare10/renci/code/fabric/1.6/fabric_ceph/.venv/lib/python3.13/site-packages/urllib3/connectionpool.py:1097: InsecureRequestWarning: Unverified HTTPS request is being made to host '23.134.232.211'. Adding certificate verification is strongly advised. See: https://urllib3.readthedocs.io/en/latest/advanced-usage.html#tls-warnings\n",
      "  warnings.warn(\n",
      "/Users/kthare10/renci/code/fabric/1.6/fabric_ceph/.venv/lib/python3.13/site-packages/urllib3/connectionpool.py:1097: InsecureRequestWarning: Unverified HTTPS request is being made to host '23.134.232.211'. Adding certificate verification is strongly advised. See: https://urllib3.readthedocs.io/en/latest/advanced-usage.html#tls-warnings\n",
      "  warnings.warn(\n",
      "/Users/kthare10/renci/code/fabric/1.6/fabric_ceph/.venv/lib/python3.13/site-packages/urllib3/connectionpool.py:1097: InsecureRequestWarning: Unverified HTTPS request is being made to host '23.134.232.211'. Adding certificate verification is strongly advised. See: https://urllib3.readthedocs.io/en/latest/advanced-usage.html#tls-warnings\n",
      "  warnings.warn(\n"
     ]
    },
    {
     "name": "stdout",
     "output_type": "stream",
     "text": [
      "API error during list_users: [500] https://23.134.232.211/cluster/user :: Internal Server Error\n"
     ]
    },
    {
     "ename": "ApiError",
     "evalue": "[500] https://23.134.232.211/cluster/user :: Internal Server Error",
     "output_type": "error",
     "traceback": [
      "\u001b[31m---------------------------------------------------------------------------\u001b[39m",
      "\u001b[31mApiError\u001b[39m                                  Traceback (most recent call last)",
      "\u001b[36mCell\u001b[39m\u001b[36m \u001b[39m\u001b[32mIn[56]\u001b[39m\u001b[32m, line 1\u001b[39m\n\u001b[32m----> \u001b[39m\u001b[32m1\u001b[39m \u001b[38;5;28mprint\u001b[39m(\u001b[43mlist_users\u001b[49m\u001b[43m(\u001b[49m\u001b[43m)\u001b[49m)\n",
      "\u001b[36mCell\u001b[39m\u001b[36m \u001b[39m\u001b[32mIn[14]\u001b[39m\u001b[32m, line 17\u001b[39m, in \u001b[36mlist_users\u001b[39m\u001b[34m()\u001b[39m\n\u001b[32m     15\u001b[39m \u001b[38;5;28;01mdef\u001b[39;00m\u001b[38;5;250m \u001b[39m\u001b[34mlist_users\u001b[39m() -> \u001b[38;5;28mstr\u001b[39m:\n\u001b[32m     16\u001b[39m     \u001b[38;5;28;01mtry\u001b[39;00m:\n\u001b[32m---> \u001b[39m\u001b[32m17\u001b[39m         \u001b[38;5;28;01mreturn\u001b[39;00m \u001b[43mclient\u001b[49m\u001b[43m.\u001b[49m\u001b[43mlist_users\u001b[49m\u001b[43m(\u001b[49m\u001b[43m)\u001b[49m\n\u001b[32m     18\u001b[39m     \u001b[38;5;28;01mexcept\u001b[39;00m ApiError \u001b[38;5;28;01mas\u001b[39;00m e:\n\u001b[32m     19\u001b[39m         \u001b[38;5;28mprint\u001b[39m(\u001b[33m\"\u001b[39m\u001b[33mAPI error during list_users:\u001b[39m\u001b[33m\"\u001b[39m, e)\n",
      "\u001b[36mFile \u001b[39m\u001b[32m~/renci/code/fabric/1.6/fabric_ceph/.venv/lib/python3.13/site-packages/fabric_ceph_client/fabric_ceph_client.py:250\u001b[39m, in \u001b[36mCephManagerClient.list_users\u001b[39m\u001b[34m(self, x_cluster)\u001b[39m\n\u001b[32m    248\u001b[39m \u001b[38;5;28;01mdef\u001b[39;00m\u001b[38;5;250m \u001b[39m\u001b[34mlist_users\u001b[39m(\u001b[38;5;28mself\u001b[39m, *, x_cluster: Optional[\u001b[38;5;28mstr\u001b[39m] = \u001b[38;5;28;01mNone\u001b[39;00m) -> Dict[\u001b[38;5;28mstr\u001b[39m, Any]:\n\u001b[32m    249\u001b[39m \u001b[38;5;250m    \u001b[39m\u001b[33;03m\"\"\"GET /cluster/user\"\"\"\u001b[39;00m\n\u001b[32m--> \u001b[39m\u001b[32m250\u001b[39m     \u001b[38;5;28;01mreturn\u001b[39;00m \u001b[38;5;28;43mself\u001b[39;49m\u001b[43m.\u001b[49m\u001b[43m_request\u001b[49m\u001b[43m(\u001b[49m\u001b[33;43m\"\u001b[39;49m\u001b[33;43mGET\u001b[39;49m\u001b[33;43m\"\u001b[39;49m\u001b[43m,\u001b[49m\u001b[43m \u001b[49m\u001b[33;43m\"\u001b[39;49m\u001b[33;43m/cluster/user\u001b[39;49m\u001b[33;43m\"\u001b[39;49m\u001b[43m,\u001b[49m\u001b[43m \u001b[49m\u001b[43mx_cluster\u001b[49m\u001b[43m=\u001b[49m\u001b[43mx_cluster\u001b[49m\u001b[43m)\u001b[49m\n",
      "\u001b[36mFile \u001b[39m\u001b[32m~/renci/code/fabric/1.6/fabric_ceph/.venv/lib/python3.13/site-packages/fabric_ceph_client/fabric_ceph_client.py:196\u001b[39m, in \u001b[36mCephManagerClient._request\u001b[39m\u001b[34m(self, method, path, params, json, data, headers, x_cluster)\u001b[39m\n\u001b[32m    194\u001b[39m     \u001b[38;5;28;01melse\u001b[39;00m:\n\u001b[32m    195\u001b[39m         payload = resp.text\n\u001b[32m--> \u001b[39m\u001b[32m196\u001b[39m     \u001b[38;5;28;01mraise\u001b[39;00m ApiError(resp.status_code, url, message=message, payload=payload)\n\u001b[32m    198\u001b[39m \u001b[38;5;66;03m# Success path: return JSON if JSON; else plain text\u001b[39;00m\n\u001b[32m    199\u001b[39m \u001b[38;5;28;01mif\u001b[39;00m \u001b[38;5;28mself\u001b[39m._is_json(resp):\n",
      "\u001b[31mApiError\u001b[39m: [500] https://23.134.232.211/cluster/user :: Internal Server Error"
     ]
    }
   ],
   "source": [
    "print(list_users())"
   ]
  },
  {
   "cell_type": "code",
   "execution_count": null,
   "id": "e5f8ab5c",
   "metadata": {},
   "outputs": [],
   "source": [
    "result = create_or_resize_subvol(\"CEPH-FS-01\", \"kthare10_0011904101\", size_bytes=10 * 1024**3,  mode=\"0777\")"
   ]
  },
  {
   "cell_type": "code",
   "execution_count": null,
   "id": "dcf2d4fd",
   "metadata": {},
   "outputs": [],
   "source": [
    "result = create_or_resize_subvol(\"CEPH-FS-01\", \"pruth_0031379841\", size_bytes=10 * 1024**3,  mode=\"0777\")"
   ]
  },
  {
   "cell_type": "code",
   "execution_count": null,
   "id": "8da70882",
   "metadata": {},
   "outputs": [],
   "source": [
    "print(result)\n",
    "paths = result.get(\"data\")[0].get(\"details\").get(\"paths\")\n",
    "print(paths)\n"
   ]
  },
  {
   "cell_type": "code",
   "execution_count": null,
   "id": "1d930304",
   "metadata": {},
   "outputs": [],
   "source": [
    "tmpl_caps = [\n",
    "    {\"entity\": \"mon\", \"cap\": \"allow r fsname={fs}\"},\n",
    "    {\"entity\": \"mds\", \"cap\": \"allow rw fsname={fs} path={path}\"},\n",
    "    {\"entity\": \"osd\", \"cap\": \"allow rw tag cephfs data={fs}\"},\n",
    "    {\"entity\": \"osd\", \"cap\": \"allow rw tag cephfs metadata={fs}\"},\n",
    "]\n",
    "try:\n",
    "    res = client.apply_user_templated(\n",
    "        user_entity=\"client.pruth_0031379841\",\n",
    "        template_capabilities=tmpl_caps,\n",
    "        fs_name=\"CEPH-FS-01\",\n",
    "        subvol_name=\"pruth_0031379841\",\n",
    "        #group_name=\"fabric_staff\",      # optional\n",
    "        sync_across_clusters=True,      # keep SAME secret everywhere\n",
    "        #preferred_source=\"europe\",      # where to create/update first (if user doesn't exist)\n",
    "        # x_cluster=\"europe,lab\"        # optional per-call override\n",
    "    )\n",
    "    # 4) Inspect result\n",
    "    print(\"Source cluster:\", res.get(\"source_cluster\"))\n",
    "    print(\"Imported to:\", res.get(\"imported_to\", []))\n",
    "    print(\"Per-cluster paths:\", res.get(\"paths\", {}))\n",
    "    print(\"Per-cluster caps applied:\", res.get(\"caps_applied\", {}))\n",
    "    print(\"Errors (if any):\", res.get(\"errors\", {}))\n",
    "\n",
    "except ApiError as e:\n",
    "    print(\"API error:\", e.status, e.url, e.message)\n",
    "    print(\"Payload:\", e.payload)"
   ]
  },
  {
   "cell_type": "code",
   "execution_count": 50,
   "id": "af59c5d1",
   "metadata": {},
   "outputs": [
    {
     "name": "stderr",
     "output_type": "stream",
     "text": [
      "/Users/kthare10/renci/code/fabric/1.6/fabric_ceph/.venv/lib/python3.13/site-packages/urllib3/connectionpool.py:1097: InsecureRequestWarning: Unverified HTTPS request is being made to host '23.134.232.211'. Adding certificate verification is strongly advised. See: https://urllib3.readthedocs.io/en/latest/advanced-usage.html#tls-warnings\n",
      "  warnings.warn(\n"
     ]
    },
    {
     "name": "stdout",
     "output_type": "stream",
     "text": [
      "{'clusters': {'east': {'client.kthare10_0011904101': '\"[client.kthare10_0011904101]\\\\n\\\\tkey = AQApM+BoJQCNABAA+id/X+Jnftn2Gud7v3VLvw==\\\\n\\\\tcaps mds = \\\\\"allow rw fsname=CEPH-FS-01 path=/volumes/_nogroup/kthare10_0011904101/454d15fd-e116-4af1-b743-f4bba6bfb8e5\\\\\"\\\\n\\\\tcaps mon = \\\\\"allow r fsname=CEPH-FS-01\\\\\"\\\\n\\\\tcaps osd = \\\\\"allow rw tag cephfs data=CEPH-FS-01\\\\\"\\\\n\\\\n\"', 'client.pruth_0031379841': '\"[client.pruth_0031379841]\\\\n\\\\tkey = AQAXPuBoDvsMLRAA/wY0kk2WrPXfrlysgUohAg==\\\\n\\\\tcaps mds = \\\\\"allow rw fsname=CEPH-FS-01 path=/volumes/_nogroup/pruth_0031379841/94bbbfea-db02-4539-a252-d3dd6bbaa713\\\\\"\\\\n\\\\tcaps mon = \\\\\"allow r fsname=CEPH-FS-01\\\\\"\\\\n\\\\tcaps osd = \\\\\"allow rw tag cephfs data=CEPH-FS-01\\\\\"\\\\n\\\\n\"'}}, 'size': 1, 'status': 200, 'type': 'keyring'}\n"
     ]
    }
   ],
   "source": [
    "keyring = export_keyrings([\"client.kthare10_0011904101\", \"client.pruth_0031379841\"])\n",
    "print(keyring)"
   ]
  },
  {
   "cell_type": "code",
   "execution_count": 54,
   "id": "4b910d59",
   "metadata": {},
   "outputs": [
    {
     "name": "stderr",
     "output_type": "stream",
     "text": [
      "/Users/kthare10/renci/code/fabric/1.6/fabric_ceph/.venv/lib/python3.13/site-packages/urllib3/connectionpool.py:1097: InsecureRequestWarning: Unverified HTTPS request is being made to host '23.134.232.211'. Adding certificate verification is strongly advised. See: https://urllib3.readthedocs.io/en/latest/advanced-usage.html#tls-warnings\n",
      "  warnings.warn(\n"
     ]
    },
    {
     "data": {
      "text/plain": [
       "{'data': [{'details': {'east': {'atime': '2025-10-03 16:51:06',\n",
       "     'bytes_pcent': '0.00',\n",
       "     'bytes_quota': 10737418240,\n",
       "     'bytes_used': 0,\n",
       "     'created_at': '2025-10-03 16:51:06',\n",
       "     'ctime': '2025-10-03 16:51:06',\n",
       "     'data_pool': 'cephfs.CEPH-FS-01.data',\n",
       "     'earmark': '',\n",
       "     'features': ['snapshot-clone',\n",
       "      'snapshot-autoprotect',\n",
       "      'snapshot-retention'],\n",
       "     'flavor': 2,\n",
       "     'gid': 0,\n",
       "     'mode': 16895,\n",
       "     'mon_addrs': ['10.129.254.2:6789',\n",
       "      '10.135.254.2:6789',\n",
       "      '10.129.253.2:6789'],\n",
       "     'mtime': '2025-10-03 16:51:06',\n",
       "     'path': '/volumes/_nogroup/kthare10_0011904101/454d15fd-e116-4af1-b743-f4bba6bfb8e5',\n",
       "     'pool_namespace': '',\n",
       "     'state': 'complete',\n",
       "     'type': 'subvolume',\n",
       "     'uid': 0}},\n",
       "   'message': 'Subvolume CEPH-FS-01 deleted.'}],\n",
       " 'size': 1,\n",
       " 'status': 200,\n",
       " 'type': 'no_content'}"
      ]
     },
     "execution_count": 54,
     "metadata": {},
     "output_type": "execute_result"
    }
   ],
   "source": [
    "info = get_subvol_info(\"CEPH-FS-01\", \"kthare10_0011904101\"); \n",
    "info"
   ]
  }
 ],
 "metadata": {
  "kernelspec": {
   "display_name": ".venv",
   "language": "python",
   "name": "python3"
  },
  "language_info": {
   "codemirror_mode": {
    "name": "ipython",
    "version": 3
   },
   "file_extension": ".py",
   "mimetype": "text/x-python",
   "name": "python",
   "nbconvert_exporter": "python",
   "pygments_lexer": "ipython3",
   "version": "3.13.5"
  }
 },
 "nbformat": 4,
 "nbformat_minor": 5
}
